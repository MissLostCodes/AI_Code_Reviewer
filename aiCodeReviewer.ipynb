{
 "cells": [
  {
   "cell_type": "markdown",
   "id": "d3b76ecd-4c2c-4031-80cb-6393898d391a",
   "metadata": {},
   "source": [
    "# Task 4 : AI CODE REVIEWER "
   ]
  },
  {
   "cell_type": "code",
   "execution_count": null,
   "id": "79b75b34-8168-4fad-90e5-0f9b39463791",
   "metadata": {},
   "outputs": [],
   "source": []
  },
  {
   "cell_type": "code",
   "execution_count": 11,
   "id": "c6a6fdda-5acb-4069-b4d7-6b2a3e30a9af",
   "metadata": {},
   "outputs": [],
   "source": [
    "import google.generativeai as genai"
   ]
  },
  {
   "cell_type": "code",
   "execution_count": 13,
   "id": "8aa77406-1078-437f-a77f-10ef4bdfc306",
   "metadata": {},
   "outputs": [],
   "source": [
    "genai.configure(api_key = \"add_your_api_key_here\")"
   ]
  },
  {
   "cell_type": "code",
   "execution_count": null,
   "id": "49f578dc-a7df-4589-b1d1-fc3d7e3ac3ab",
   "metadata": {},
   "outputs": [],
   "source": []
  },
  {
   "cell_type": "code",
   "execution_count": 23,
   "id": "7945c88e-eb4a-4314-a457-269300c49fee",
   "metadata": {},
   "outputs": [],
   "source": [
    "system_prompt = \"\"\"You are a helpful python code reviewer.\n",
    "                    you are supposed to analyze python code for errors ,provide a bug report and suggest a corrected version of code\n",
    "                    Respond with a structured format containing :\n",
    "                    1. A **Bug Report** explaining the issues \n",
    "                    2. A **Fixed Code ** section with corrected version of code \"\"\"\n",
    "gemini_model = genai.GenerativeModel(\"models/gemini-2.0-flash\" , system_instruction = system_prompt)"
   ]
  },
  {
   "cell_type": "code",
   "execution_count": 27,
   "id": "9d936bb5-101f-4399-b232-b48198ae81f7",
   "metadata": {},
   "outputs": [],
   "source": [
    "def review_code(code):\n",
    "    response = gemini_model.generate_content(f\"Here is the python code ```python {code} \")  \n",
    "    return response.text "
   ]
  },
  {
   "cell_type": "code",
   "execution_count": null,
   "id": "10c55011-cf8e-4d8c-9b76-bdeab13bfecb",
   "metadata": {},
   "outputs": [],
   "source": []
  },
  {
   "cell_type": "code",
   "execution_count": 31,
   "id": "b2fc8884-f71d-48ef-a9c1-e243d2fed4ba",
   "metadata": {},
   "outputs": [],
   "source": [
    "import streamlit as st "
   ]
  },
  {
   "cell_type": "code",
   "execution_count": null,
   "id": "9d92cc47-834f-46eb-97ec-add886f2de64",
   "metadata": {},
   "outputs": [],
   "source": [
    "st.title(\"\\U0001F4AC An AI Code Reviewer\")\n",
    "st.write(\"Enter your Pyhton code here ....\")"
   ]
  },
  {
   "cell_type": "code",
   "execution_count": null,
   "id": "b7b0d3f9-4971-4456-b1f6-ad6f4705db13",
   "metadata": {},
   "outputs": [],
   "source": [
    "\n"
   ]
  },
  {
   "cell_type": "code",
   "execution_count": null,
   "id": "19ec76ef-0abe-4105-a460-1ac116d4ff89",
   "metadata": {},
   "outputs": [],
   "source": [
    "user_code = st.text_area(\"Python Code\" , height=150 )\n",
    "\n",
    "if st.button(\"Generate\"):\n",
    "    if user_code :\n",
    "        review = review_code(user_code)\n",
    "        st.subheader(\"Code Review\")\n",
    "        st.markdown(review)\n",
    "    else :\n",
    "        st.warning(\"Please enter your code!\")"
   ]
  },
  {
   "cell_type": "code",
   "execution_count": null,
   "id": "03b97ec7-49a6-4527-8a23-dbf93613c125",
   "metadata": {},
   "outputs": [],
   "source": [
    "\n"
   ]
  },
  {
   "cell_type": "code",
   "execution_count": null,
   "id": "cf1964a2-f414-4cd0-832a-496b5d2a8223",
   "metadata": {},
   "outputs": [],
   "source": []
  }
 ],
 "metadata": {
  "kernelspec": {
   "display_name": "Python [conda env:base] *",
   "language": "python",
   "name": "conda-base-py"
  },
  "language_info": {
   "codemirror_mode": {
    "name": "ipython",
    "version": 3
   },
   "file_extension": ".py",
   "mimetype": "text/x-python",
   "name": "python",
   "nbconvert_exporter": "python",
   "pygments_lexer": "ipython3",
   "version": "3.12.7"
  }
 },
 "nbformat": 4,
 "nbformat_minor": 5
}
